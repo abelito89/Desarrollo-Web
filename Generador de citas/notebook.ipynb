{
 "cells": [
  {
   "cell_type": "code",
   "execution_count": 1,
   "metadata": {},
   "outputs": [],
   "source": [
    "from fastapi import FastAPI, Request, Form\n",
    "from fastapi.responses import HTMLResponse\n",
    "from fastapi.templating import Jinja2Templates\n",
    "import pandas as pd\n",
    "\n",
    "df = pd.read_csv('txt_citas.txt', names=['Cita','Categoria'], sep=',')"
   ]
  },
  {
   "cell_type": "code",
   "execution_count": 2,
   "metadata": {},
   "outputs": [
    {
     "data": {
      "text/html": [
       "<div>\n",
       "<style scoped>\n",
       "    .dataframe tbody tr th:only-of-type {\n",
       "        vertical-align: middle;\n",
       "    }\n",
       "\n",
       "    .dataframe tbody tr th {\n",
       "        vertical-align: top;\n",
       "    }\n",
       "\n",
       "    .dataframe thead th {\n",
       "        text-align: right;\n",
       "    }\n",
       "</style>\n",
       "<table border=\"1\" class=\"dataframe\">\n",
       "  <thead>\n",
       "    <tr style=\"text-align: right;\">\n",
       "      <th></th>\n",
       "      <th>Cita</th>\n",
       "      <th>Categoria</th>\n",
       "    </tr>\n",
       "  </thead>\n",
       "  <tbody>\n",
       "    <tr>\n",
       "      <th>0</th>\n",
       "      <td>El amor no consiste en mirarse el uno al otro,...</td>\n",
       "      <td>amor</td>\n",
       "    </tr>\n",
       "    <tr>\n",
       "      <th>1</th>\n",
       "      <td>El amor es la única fuerza capaz de transforma...</td>\n",
       "      <td>amor</td>\n",
       "    </tr>\n",
       "    <tr>\n",
       "      <th>2</th>\n",
       "      <td>El amor es la belleza de la vida.</td>\n",
       "      <td>amor</td>\n",
       "    </tr>\n",
       "    <tr>\n",
       "      <th>3</th>\n",
       "      <td>El amor es la respuesta a todo.</td>\n",
       "      <td>amor</td>\n",
       "    </tr>\n",
       "    <tr>\n",
       "      <th>4</th>\n",
       "      <td>El amor es la clave que abre las puertas de la...</td>\n",
       "      <td>amor</td>\n",
       "    </tr>\n",
       "    <tr>\n",
       "      <th>5</th>\n",
       "      <td>La amistad duplica las alegrías y divide las a...</td>\n",
       "      <td>amistad</td>\n",
       "    </tr>\n",
       "    <tr>\n",
       "      <th>6</th>\n",
       "      <td>La amistad es un alma que habita en dos cuerpos.</td>\n",
       "      <td>amistad</td>\n",
       "    </tr>\n",
       "    <tr>\n",
       "      <th>7</th>\n",
       "      <td>La amistad es un tesoro que se aprecia cada ve...</td>\n",
       "      <td>amistad</td>\n",
       "    </tr>\n",
       "    <tr>\n",
       "      <th>8</th>\n",
       "      <td>La amistad es el ingrediente más importante en...</td>\n",
       "      <td>amistad</td>\n",
       "    </tr>\n",
       "    <tr>\n",
       "      <th>9</th>\n",
       "      <td>La amistad es la música de la vida.</td>\n",
       "      <td>amistad</td>\n",
       "    </tr>\n",
       "    <tr>\n",
       "      <th>10</th>\n",
       "      <td>El éxito es la suma de pequeños esfuerzos repe...</td>\n",
       "      <td>motivación</td>\n",
       "    </tr>\n",
       "    <tr>\n",
       "      <th>11</th>\n",
       "      <td>El éxito no es la clave de la felicidad. La fe...</td>\n",
       "      <td>motivación</td>\n",
       "    </tr>\n",
       "    <tr>\n",
       "      <th>12</th>\n",
       "      <td>El éxito es la capacidad de ir de fracaso en f...</td>\n",
       "      <td>motivación</td>\n",
       "    </tr>\n",
       "    <tr>\n",
       "      <th>13</th>\n",
       "      <td>El éxito es no definitivo, el fracaso no es fa...</td>\n",
       "      <td>motivación</td>\n",
       "    </tr>\n",
       "    <tr>\n",
       "      <th>14</th>\n",
       "      <td>El éxito es la realización progresiva de un id...</td>\n",
       "      <td>motivación</td>\n",
       "    </tr>\n",
       "    <tr>\n",
       "      <th>15</th>\n",
       "      <td>La vida es lo que hacemos de ella. Los viajes ...</td>\n",
       "      <td>vida</td>\n",
       "    </tr>\n",
       "    <tr>\n",
       "      <th>16</th>\n",
       "      <td>La vida es realmente simple, pero insistimos e...</td>\n",
       "      <td>vida</td>\n",
       "    </tr>\n",
       "    <tr>\n",
       "      <th>17</th>\n",
       "      <td>La vida es lo que sucede mientras estás ocupad...</td>\n",
       "      <td>vida</td>\n",
       "    </tr>\n",
       "    <tr>\n",
       "      <th>18</th>\n",
       "      <td>La vida es un sueño para los sabios, un juego ...</td>\n",
       "      <td>vida</td>\n",
       "    </tr>\n",
       "    <tr>\n",
       "      <th>19</th>\n",
       "      <td>La vida es como andar en bicicleta. Para mante...</td>\n",
       "      <td>vida</td>\n",
       "    </tr>\n",
       "  </tbody>\n",
       "</table>\n",
       "</div>"
      ],
      "text/plain": [
       "                                                 Cita   Categoria\n",
       "0   El amor no consiste en mirarse el uno al otro,...        amor\n",
       "1   El amor es la única fuerza capaz de transforma...        amor\n",
       "2                   El amor es la belleza de la vida.        amor\n",
       "3                     El amor es la respuesta a todo.        amor\n",
       "4   El amor es la clave que abre las puertas de la...        amor\n",
       "5   La amistad duplica las alegrías y divide las a...     amistad\n",
       "6    La amistad es un alma que habita en dos cuerpos.     amistad\n",
       "7   La amistad es un tesoro que se aprecia cada ve...     amistad\n",
       "8   La amistad es el ingrediente más importante en...     amistad\n",
       "9                 La amistad es la música de la vida.     amistad\n",
       "10  El éxito es la suma de pequeños esfuerzos repe...  motivación\n",
       "11  El éxito no es la clave de la felicidad. La fe...  motivación\n",
       "12  El éxito es la capacidad de ir de fracaso en f...  motivación\n",
       "13  El éxito es no definitivo, el fracaso no es fa...  motivación\n",
       "14  El éxito es la realización progresiva de un id...  motivación\n",
       "15  La vida es lo que hacemos de ella. Los viajes ...        vida\n",
       "16  La vida es realmente simple, pero insistimos e...        vida\n",
       "17  La vida es lo que sucede mientras estás ocupad...        vida\n",
       "18  La vida es un sueño para los sabios, un juego ...        vida\n",
       "19  La vida es como andar en bicicleta. Para mante...        vida"
      ]
     },
     "execution_count": 2,
     "metadata": {},
     "output_type": "execute_result"
    }
   ],
   "source": [
    "df"
   ]
  },
  {
   "cell_type": "code",
   "execution_count": 24,
   "metadata": {},
   "outputs": [],
   "source": [
    "categoria='amor'"
   ]
  },
  {
   "cell_type": "code",
   "execution_count": 27,
   "metadata": {},
   "outputs": [
    {
     "data": {
      "text/plain": [
       "'El amor es la única fuerza capaz de transformar un enemigo en amigo.'"
      ]
     },
     "execution_count": 27,
     "metadata": {},
     "output_type": "execute_result"
    }
   ],
   "source": [
    "df_filtrado = df[df['Categoria'] == categoria]\n",
    "serie_aleatoria = df_filtrado.sample(n=1).iloc[0]\n",
    "cita_devuelta = serie_aleatoria['Cita']\n",
    "cita_devuelta"
   ]
  },
  {
   "cell_type": "code",
   "execution_count": 22,
   "metadata": {},
   "outputs": [
    {
     "data": {
      "text/plain": [
       "'El amor no consiste en mirarse el uno al otro, sino en mirar juntos en la misma dirección.'"
      ]
     },
     "execution_count": 22,
     "metadata": {},
     "output_type": "execute_result"
    }
   ],
   "source": [
    "df_filtrado = df[df['Categoria'] == categoria]\n",
    "serie_aleatoria = df_filtrado.sample(n=1).iloc[0]\n",
    "serie_aleatoria['Cita']"
   ]
  }
 ],
 "metadata": {
  "kernelspec": {
   "display_name": "Python 3",
   "language": "python",
   "name": "python3"
  },
  "language_info": {
   "codemirror_mode": {
    "name": "ipython",
    "version": 3
   },
   "file_extension": ".py",
   "mimetype": "text/x-python",
   "name": "python",
   "nbconvert_exporter": "python",
   "pygments_lexer": "ipython3",
   "version": "3.11.4"
  }
 },
 "nbformat": 4,
 "nbformat_minor": 2
}
